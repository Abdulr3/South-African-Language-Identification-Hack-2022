{
 "cells": [
  {
   "cell_type": "markdown",
   "id": "f8460439",
   "metadata": {},
   "source": [
    "## South African Language Identification Hack 2022"
   ]
  },
  {
   "cell_type": "markdown",
   "id": "a1c630d9",
   "metadata": {},
   "source": [
    "### Overview"
   ]
  },
  {
   "cell_type": "markdown",
   "id": "a7ec9ceb",
   "metadata": {},
   "source": [
    "South Africa is a multicultural society that is characterised by its rich linguistic diversity. Language is an indispensable tool that can be used to deepen democracy and also contribute to the social, cultural, intellectual, economic and political life of the South African society.\n",
    "\n",
    "The country is multilingual with 11 official languages, each of which is guaranteed equal status. Most South Africans are multilingual and able to speak at least two or more of the official languages.\n",
    "In this challenge, we will take a text which is in any of South Africa's 11 Official languages and identify which language the text is in. This is an example of NLP's Language Identification, the task of determining the natural language that a piece of text is written in."
   ]
  },
  {
   "cell_type": "markdown",
   "id": "462e3ffb",
   "metadata": {},
   "source": [
    "### Problem statement"
   ]
  },
  {
   "cell_type": "markdown",
   "id": "bfdf8080",
   "metadata": {},
   "source": [
    "To develop a sophisticated machine learning model which can predict the South African language a text has been written in."
   ]
  },
  {
   "cell_type": "markdown",
   "id": "b002d78e",
   "metadata": {},
   "source": [
    "### Importing relevant packages"
   ]
  },
  {
   "cell_type": "code",
   "execution_count": 145,
   "id": "2069f822",
   "metadata": {},
   "outputs": [],
   "source": [
    "# Data loading and Text processing\n",
    "import numpy as np\n",
    "import pandas as pd\n",
    "import string\n",
    "import nltk\n",
    "from sklearn.feature_extraction.text import CountVectorizer\n",
    "\n",
    "\n",
    "# Data Visualisation\n",
    "import matplotlib.pyplot as plt\n",
    "\n",
    "# Modeling and Evaluation\n",
    "from sklearn.model_selection import train_test_split\n",
    "from sklearn.metrics import classification_report\n",
    "from sklearn.linear_model import LogisticRegression\n",
    "from sklearn.neighbors import KNeighborsClassifier\n",
    "from sklearn.svm import SVC\n",
    "from sklearn.discriminant_analysis import LinearDiscriminantAnalysis\n",
    "from sklearn.discriminant_analysis import QuadraticDiscriminantAnalysis\n",
    "from sklearn.tree import DecisionTreeClassifier\n",
    "from sklearn.ensemble import RandomForestClassifier, AdaBoostClassifier\n",
    "from sklearn.feature_extraction.text import CountVectorizer\n",
    "\n",
    "from sklearn.model_selection import cross_val_score\n",
    "from sklearn.model_selection import train_test_split\n",
    "from sklearn import metrics\n",
    "\n",
    "from sklearn.preprocessing import StandardScaler\n"
   ]
  },
  {
   "cell_type": "markdown",
   "id": "8efae4fc",
   "metadata": {},
   "source": [
    "### Loading Data"
   ]
  },
  {
   "cell_type": "code",
   "execution_count": 146,
   "id": "71e51806",
   "metadata": {},
   "outputs": [],
   "source": [
    "# read train dataset\n",
    "train_set = pd.read_csv(r'C:\\Users\\b1806\\Desktop\\experiment 2\\South-African-Language-Identification-Hack-2022\\train_set.csv')\n",
    "\n",
    "# read test dataset\n",
    "test_set = pd.read_csv(r'C:\\Users\\b1806\\Desktop\\experiment 2\\South-African-Language-Identification-Hack-2022\\test_set.csv')"
   ]
  },
  {
   "cell_type": "markdown",
   "id": "051125d2",
   "metadata": {},
   "source": [
    "### Exploratory data analysis"
   ]
  },
  {
   "cell_type": "markdown",
   "id": "215e0fa3",
   "metadata": {},
   "source": [
    "Exploratory data analsysis is the process of deriving insights from our dataset without making any assumptions. Here we will using both graphical and non-graphical exploratory data analysis"
   ]
  },
  {
   "cell_type": "markdown",
   "id": "57afbf5f",
   "metadata": {},
   "source": [
    "#### Overview of training set"
   ]
  },
  {
   "cell_type": "code",
   "execution_count": 4,
   "id": "2b884630",
   "metadata": {},
   "outputs": [
    {
     "data": {
      "text/html": [
       "<div>\n",
       "<style scoped>\n",
       "    .dataframe tbody tr th:only-of-type {\n",
       "        vertical-align: middle;\n",
       "    }\n",
       "\n",
       "    .dataframe tbody tr th {\n",
       "        vertical-align: top;\n",
       "    }\n",
       "\n",
       "    .dataframe thead th {\n",
       "        text-align: right;\n",
       "    }\n",
       "</style>\n",
       "<table border=\"1\" class=\"dataframe\">\n",
       "  <thead>\n",
       "    <tr style=\"text-align: right;\">\n",
       "      <th></th>\n",
       "      <th>lang_id</th>\n",
       "      <th>text</th>\n",
       "    </tr>\n",
       "  </thead>\n",
       "  <tbody>\n",
       "    <tr>\n",
       "      <th>0</th>\n",
       "      <td>xho</td>\n",
       "      <td>umgaqo-siseko wenza amalungiselelo kumaziko ax...</td>\n",
       "    </tr>\n",
       "    <tr>\n",
       "      <th>1</th>\n",
       "      <td>xho</td>\n",
       "      <td>i-dha iya kuba nobulumko bokubeka umsebenzi na...</td>\n",
       "    </tr>\n",
       "    <tr>\n",
       "      <th>2</th>\n",
       "      <td>eng</td>\n",
       "      <td>the province of kwazulu-natal department of tr...</td>\n",
       "    </tr>\n",
       "    <tr>\n",
       "      <th>3</th>\n",
       "      <td>nso</td>\n",
       "      <td>o netefatša gore o ba file dilo ka moka tše le...</td>\n",
       "    </tr>\n",
       "    <tr>\n",
       "      <th>4</th>\n",
       "      <td>ven</td>\n",
       "      <td>khomishini ya ndinganyiso ya mbeu yo ewa maana...</td>\n",
       "    </tr>\n",
       "  </tbody>\n",
       "</table>\n",
       "</div>"
      ],
      "text/plain": [
       "  lang_id                                               text\n",
       "0     xho  umgaqo-siseko wenza amalungiselelo kumaziko ax...\n",
       "1     xho  i-dha iya kuba nobulumko bokubeka umsebenzi na...\n",
       "2     eng  the province of kwazulu-natal department of tr...\n",
       "3     nso  o netefatša gore o ba file dilo ka moka tše le...\n",
       "4     ven  khomishini ya ndinganyiso ya mbeu yo ewa maana..."
      ]
     },
     "execution_count": 4,
     "metadata": {},
     "output_type": "execute_result"
    }
   ],
   "source": [
    "#Training set\n",
    "train_set.head()"
   ]
  },
  {
   "cell_type": "code",
   "execution_count": 5,
   "id": "9b9567d0",
   "metadata": {},
   "outputs": [
    {
     "data": {
      "text/html": [
       "<div>\n",
       "<style scoped>\n",
       "    .dataframe tbody tr th:only-of-type {\n",
       "        vertical-align: middle;\n",
       "    }\n",
       "\n",
       "    .dataframe tbody tr th {\n",
       "        vertical-align: top;\n",
       "    }\n",
       "\n",
       "    .dataframe thead th {\n",
       "        text-align: right;\n",
       "    }\n",
       "</style>\n",
       "<table border=\"1\" class=\"dataframe\">\n",
       "  <thead>\n",
       "    <tr style=\"text-align: right;\">\n",
       "      <th></th>\n",
       "      <th>index</th>\n",
       "      <th>text</th>\n",
       "    </tr>\n",
       "  </thead>\n",
       "  <tbody>\n",
       "    <tr>\n",
       "      <th>0</th>\n",
       "      <td>1</td>\n",
       "      <td>Mmasepala, fa maemo a a kgethegileng a letlele...</td>\n",
       "    </tr>\n",
       "    <tr>\n",
       "      <th>1</th>\n",
       "      <td>2</td>\n",
       "      <td>Uzakwaziswa ngokufaneleko nakungafuneka eminye...</td>\n",
       "    </tr>\n",
       "    <tr>\n",
       "      <th>2</th>\n",
       "      <td>3</td>\n",
       "      <td>Tshivhumbeo tshi fana na ngano dza vhathu.</td>\n",
       "    </tr>\n",
       "    <tr>\n",
       "      <th>3</th>\n",
       "      <td>4</td>\n",
       "      <td>Kube inja nelikati betingevakala kutsi titsini...</td>\n",
       "    </tr>\n",
       "    <tr>\n",
       "      <th>4</th>\n",
       "      <td>5</td>\n",
       "      <td>Winste op buitelandse valuta.</td>\n",
       "    </tr>\n",
       "  </tbody>\n",
       "</table>\n",
       "</div>"
      ],
      "text/plain": [
       "   index                                               text\n",
       "0      1  Mmasepala, fa maemo a a kgethegileng a letlele...\n",
       "1      2  Uzakwaziswa ngokufaneleko nakungafuneka eminye...\n",
       "2      3         Tshivhumbeo tshi fana na ngano dza vhathu.\n",
       "3      4  Kube inja nelikati betingevakala kutsi titsini...\n",
       "4      5                      Winste op buitelandse valuta."
      ]
     },
     "execution_count": 5,
     "metadata": {},
     "output_type": "execute_result"
    }
   ],
   "source": [
    "test_set.head()"
   ]
  },
  {
   "cell_type": "markdown",
   "id": "84a91260",
   "metadata": {},
   "source": [
    "#### Analysis of languages"
   ]
  },
  {
   "cell_type": "code",
   "execution_count": 11,
   "id": "22fb203a",
   "metadata": {},
   "outputs": [
    {
     "name": "stdout",
     "output_type": "stream",
     "text": [
      "xho    3000\n",
      "eng    3000\n",
      "nso    3000\n",
      "ven    3000\n",
      "tsn    3000\n",
      "nbl    3000\n",
      "zul    3000\n",
      "ssw    3000\n",
      "tso    3000\n",
      "sot    3000\n",
      "afr    3000\n",
      "Name: lang_id, dtype: int64\n"
     ]
    }
   ],
   "source": [
    "#Counting the occurance of each language in the training set\n",
    "Language_counts = train_set['lang_id'].value_counts()\n",
    "print(Language_counts)"
   ]
  },
  {
   "cell_type": "markdown",
   "id": "2ee89388",
   "metadata": {},
   "source": [
    "The languages each appear 3000 times."
   ]
  },
  {
   "cell_type": "code",
   "execution_count": 12,
   "id": "b0324d29",
   "metadata": {},
   "outputs": [
    {
     "name": "stdout",
     "output_type": "stream",
     "text": [
      "<class 'pandas.core.frame.DataFrame'>\n",
      "RangeIndex: 33000 entries, 0 to 32999\n",
      "Data columns (total 2 columns):\n",
      " #   Column   Non-Null Count  Dtype \n",
      "---  ------   --------------  ----- \n",
      " 0   lang_id  33000 non-null  object\n",
      " 1   text     33000 non-null  object\n",
      "dtypes: object(2)\n",
      "memory usage: 515.8+ KB\n"
     ]
    }
   ],
   "source": [
    "#Viewing data type of each column\n",
    "train_set.info()"
   ]
  },
  {
   "cell_type": "markdown",
   "id": "071b58cd",
   "metadata": {},
   "source": [
    "We can see that there are 33000 rows and no null values."
   ]
  },
  {
   "cell_type": "markdown",
   "id": "38611f89",
   "metadata": {},
   "source": [
    "#### Cleaning data"
   ]
  },
  {
   "cell_type": "markdown",
   "id": "9751839b",
   "metadata": {},
   "source": [
    "We will be performing minimal cleaning in our dataset, by converting the text to lower case and removing punctuations."
   ]
  },
  {
   "cell_type": "code",
   "execution_count": 18,
   "id": "e11dd3ba",
   "metadata": {},
   "outputs": [],
   "source": [
    "def clean_data(text):   \n",
    "    \n",
    "    # change the case of all the words in the text to lowercase \n",
    "    text = text.lower()\n",
    "    \n",
    "    # remove punctuation\n",
    "    text = \"\".join([x for x in text if x not in string.punctuation])\n",
    "    return text"
   ]
  },
  {
   "cell_type": "code",
   "execution_count": 21,
   "id": "667aa200",
   "metadata": {},
   "outputs": [],
   "source": [
    "#cleaning train dataset\n",
    "train_set['text'] = train_set['text'].apply(clean_data)\n",
    "#cleaning test dataset\n",
    "test_set['text'] = test_set['text'].apply(clean_data)"
   ]
  },
  {
   "cell_type": "markdown",
   "id": "81fc87fa",
   "metadata": {},
   "source": [
    "#### Transforming Text into Numbers"
   ]
  },
  {
   "cell_type": "markdown",
   "id": "354a5176",
   "metadata": {},
   "source": [
    "lets convert our languages into intergers as follows {'xho':1, 'eng':2, 'nso':3, 'ven':4, 'tsn':5, 'nbl':6,'zul':7, 'ssw':8, 'tso':9, 'sot':10, 'afr':11}"
   ]
  },
  {
   "cell_type": "code",
   "execution_count": 36,
   "id": "95c14664",
   "metadata": {},
   "outputs": [],
   "source": [
    "lang_dict = {'xho':1, 'eng':2, 'nso':3, 'ven':4, 'tsn':5, 'nbl':6,'zul':7, 'ssw':8, 'tso':9, 'sot':10, 'afr':11}\n",
    "\n",
    "train_set['lang_id'].replace(lang_dict, inplace=True)"
   ]
  },
  {
   "cell_type": "code",
   "execution_count": 39,
   "id": "429bd496",
   "metadata": {},
   "outputs": [
    {
     "data": {
      "text/plain": [
       "array([ 1,  2,  3,  4,  5,  6,  7,  8,  9, 10, 11], dtype=int64)"
      ]
     },
     "execution_count": 39,
     "metadata": {},
     "output_type": "execute_result"
    }
   ],
   "source": [
    "train_set['lang_id'].unique()"
   ]
  },
  {
   "cell_type": "markdown",
   "id": "4ebb659b",
   "metadata": {},
   "source": [
    "lets extract  our features using  count vectorizer"
   ]
  },
  {
   "cell_type": "code",
   "execution_count": 28,
   "id": "f755536b",
   "metadata": {},
   "outputs": [],
   "source": []
  },
  {
   "cell_type": "code",
   "execution_count": 134,
   "id": "b8feab65",
   "metadata": {},
   "outputs": [],
   "source": [
    " def convert_text_numbers(list_of_words):\n",
    "    vect = CountVectorizer(lowercase=True , max_features=10000)\n",
    "    count = vect.fit_transform(list_of_words.values.astype(str))\n",
    "    matrix = count.toarray()\n",
    "    return matrix"
   ]
  },
  {
   "cell_type": "code",
   "execution_count": 135,
   "id": "944d8d33",
   "metadata": {},
   "outputs": [],
   "source": [
    "# converting messages in  train set to numbers\n",
    "X = convert_text_numbers(train_set['text'])\n",
    "\n",
    "# converting messages in  train set to numbers\n",
    "Xtest = convert_text_numbers(test_set['text'])\n"
   ]
  },
  {
   "cell_type": "code",
   "execution_count": 136,
   "id": "3ef34afa",
   "metadata": {},
   "outputs": [
    {
     "data": {
      "text/plain": [
       "(33000, 10000)"
      ]
     },
     "execution_count": 136,
     "metadata": {},
     "output_type": "execute_result"
    }
   ],
   "source": [
    "X.shape"
   ]
  },
  {
   "cell_type": "code",
   "execution_count": 137,
   "id": "014b0059",
   "metadata": {},
   "outputs": [],
   "source": [
    "y= train_set['lang_id']"
   ]
  },
  {
   "cell_type": "code",
   "execution_count": 139,
   "id": "41aa6afa",
   "metadata": {},
   "outputs": [],
   "source": [
    "n= 10000"
   ]
  },
  {
   "cell_type": "code",
   "execution_count": 141,
   "id": "322dfc02",
   "metadata": {},
   "outputs": [],
   "source": [
    "#splitting dataset into training and validation\n",
    "X_train, X_test, y_train, y_test = train_test_split(X[:n], y[:n])"
   ]
  },
  {
   "cell_type": "markdown",
   "id": "ada1440f",
   "metadata": {},
   "source": [
    "## Modelling and Evaluation"
   ]
  },
  {
   "cell_type": "markdown",
   "id": "aaf48217",
   "metadata": {},
   "source": [
    "We will be building different types of classification models, and will be comparing their performances"
   ]
  },
  {
   "cell_type": "code",
   "execution_count": 142,
   "id": "fdd63987",
   "metadata": {},
   "outputs": [],
   "source": [
    "names = ['Logistic Regression', 'Nearest Neighbors', \n",
    "         'Linear SVM', 'RBF SVM',          \n",
    "         'Decision Tree', 'Random Forest',  'AdaBoost']"
   ]
  },
  {
   "cell_type": "code",
   "execution_count": 143,
   "id": "8addfa14",
   "metadata": {},
   "outputs": [],
   "source": [
    "classifiers = [\n",
    "    LogisticRegression(), \n",
    "    KNeighborsClassifier(3),\n",
    "    SVC(kernel=\"linear\", C=0.025),\n",
    "    SVC(gamma=2, C=1),\n",
    "    DecisionTreeClassifier(max_depth=5),\n",
    "    RandomForestClassifier(max_depth=5, n_estimators=10, max_features=1),    \n",
    "    AdaBoostClassifier()\n",
    "]"
   ]
  },
  {
   "cell_type": "code",
   "execution_count": null,
   "id": "a50d61cf",
   "metadata": {},
   "outputs": [],
   "source": [
    "\n"
   ]
  },
  {
   "cell_type": "code",
   "execution_count": null,
   "id": "c4f0538b",
   "metadata": {},
   "outputs": [],
   "source": []
  },
  {
   "cell_type": "code",
   "execution_count": 79,
   "id": "7f048390",
   "metadata": {},
   "outputs": [],
   "source": []
  },
  {
   "cell_type": "code",
   "execution_count": null,
   "id": "8f8fff91",
   "metadata": {},
   "outputs": [],
   "source": []
  },
  {
   "cell_type": "code",
   "execution_count": null,
   "id": "18131630",
   "metadata": {},
   "outputs": [],
   "source": []
  },
  {
   "cell_type": "code",
   "execution_count": null,
   "id": "c27587cf",
   "metadata": {},
   "outputs": [],
   "source": []
  },
  {
   "cell_type": "code",
   "execution_count": null,
   "id": "14f7cd8f",
   "metadata": {},
   "outputs": [],
   "source": []
  },
  {
   "cell_type": "code",
   "execution_count": 149,
   "id": "e78383f9",
   "metadata": {},
   "outputs": [],
   "source": [
    "SVM = SVC(gamma=2, C=1)"
   ]
  },
  {
   "cell_type": "code",
   "execution_count": null,
   "id": "4d9f2208",
   "metadata": {},
   "outputs": [],
   "source": [
    "SVM.fit(X_train, y_train)"
   ]
  },
  {
   "cell_type": "code",
   "execution_count": null,
   "id": "8a3a08b6",
   "metadata": {},
   "outputs": [],
   "source": [
    "y_valsvm = SVM.predict(X_test)"
   ]
  },
  {
   "cell_type": "code",
   "execution_count": 80,
   "id": "ca3889a8",
   "metadata": {},
   "outputs": [
    {
     "name": "stdout",
     "output_type": "stream",
     "text": [
      "              precision    recall  f1-score   support\n",
      "\n",
      "           1       0.99      0.99      0.99       429\n",
      "           2       0.99      1.00      1.00       471\n",
      "           3       1.00      1.00      1.00       441\n",
      "           4       1.00      1.00      1.00       452\n",
      "           5       1.00      1.00      1.00       433\n",
      "           6       0.99      0.99      0.99       462\n",
      "           7       0.98      0.97      0.98       431\n",
      "           8       0.99      0.99      0.99       450\n",
      "           9       1.00      1.00      1.00       437\n",
      "          10       1.00      1.00      1.00       449\n",
      "          11       1.00      0.99      1.00       495\n",
      "\n",
      "    accuracy                           0.99      4950\n",
      "   macro avg       0.99      0.99      0.99      4950\n",
      "weighted avg       0.99      0.99      0.99      4950\n",
      "\n"
     ]
    }
   ],
   "source": [
    "print(classification_report(y_test,y_valsvm))"
   ]
  },
  {
   "cell_type": "code",
   "execution_count": 66,
   "id": "e205ee9a",
   "metadata": {},
   "outputs": [],
   "source": []
  },
  {
   "cell_type": "code",
   "execution_count": 87,
   "id": "1c3c7bbb",
   "metadata": {},
   "outputs": [],
   "source": [
    "Prediction = log.predict(Xtest)\n",
    "A = Prediction"
   ]
  },
  {
   "cell_type": "code",
   "execution_count": 89,
   "id": "58c842a5",
   "metadata": {},
   "outputs": [],
   "source": [
    "lang_dict = {'xho':1, 'eng':2, 'nso':3, 'ven':4, 'tsn':5, 'nbl':6,'zul':7, 'ssw':8, 'tso':9, 'sot':10, 'afr':11}\n",
    "\n"
   ]
  },
  {
   "cell_type": "code",
   "execution_count": 101,
   "id": "2e6efa76",
   "metadata": {},
   "outputs": [],
   "source": [
    "duh =np.array(A,dtype='object')"
   ]
  },
  {
   "cell_type": "code",
   "execution_count": 104,
   "id": "6cb9c63c",
   "metadata": {},
   "outputs": [
    {
     "data": {
      "text/plain": [
       "dtype('O')"
      ]
     },
     "execution_count": 104,
     "metadata": {},
     "output_type": "execute_result"
    }
   ],
   "source": [
    "duh.dtype\n",
    "A =duh\n",
    "A.dtype"
   ]
  },
  {
   "cell_type": "code",
   "execution_count": 105,
   "id": "319282a8",
   "metadata": {},
   "outputs": [],
   "source": [
    "A[A == 1] = 'xho'\n",
    "A[A == 2] = 'eng'\n",
    "A[A == 3] = 'nso'\n",
    "A[A == 4] = 'ven'\n",
    "A[A == 5] = 'tsn'\n",
    "A[A == 6] = 'nbl'\n",
    "A[A == 7] = 'zul'\n",
    "A[A == 8] = 'ssw'\n",
    "A[A == 9] = 'tso'\n",
    "A[A == 10] = 'sot'\n",
    "A[A == 11] = 'afr'"
   ]
  },
  {
   "cell_type": "code",
   "execution_count": 106,
   "id": "46413448",
   "metadata": {},
   "outputs": [
    {
     "data": {
      "text/plain": [
       "array(['ssw', 'ssw', 'ssw', ..., 'eng', 'xho', 'eng'], dtype=object)"
      ]
     },
     "execution_count": 106,
     "metadata": {},
     "output_type": "execute_result"
    }
   ],
   "source": [
    "A"
   ]
  },
  {
   "cell_type": "code",
   "execution_count": 110,
   "id": "31d01fb4",
   "metadata": {},
   "outputs": [
    {
     "data": {
      "text/plain": [
       "0          1\n",
       "1          2\n",
       "2          3\n",
       "3          4\n",
       "4          5\n",
       "        ... \n",
       "5677    5678\n",
       "5678    5679\n",
       "5679    5680\n",
       "5680    5681\n",
       "5681    5682\n",
       "Name: index, Length: 5682, dtype: int64"
      ]
     },
     "execution_count": 110,
     "metadata": {},
     "output_type": "execute_result"
    }
   ],
   "source": [
    "test_set['index']"
   ]
  },
  {
   "cell_type": "code",
   "execution_count": 116,
   "id": "1fc77192",
   "metadata": {},
   "outputs": [],
   "source": [
    "output = pd.DataFrame({'index':test_set['index'], 'lang_id':A})\n",
    "output.to_csv('submission_svm.csv', index=False)"
   ]
  },
  {
   "cell_type": "code",
   "execution_count": null,
   "id": "62996bf8",
   "metadata": {},
   "outputs": [],
   "source": []
  },
  {
   "cell_type": "code",
   "execution_count": null,
   "id": "74c638b0",
   "metadata": {},
   "outputs": [],
   "source": []
  },
  {
   "cell_type": "code",
   "execution_count": null,
   "id": "34d8f2b7",
   "metadata": {},
   "outputs": [],
   "source": []
  }
 ],
 "metadata": {
  "kernelspec": {
   "display_name": "Python 3 (ipykernel)",
   "language": "python",
   "name": "python3"
  },
  "language_info": {
   "codemirror_mode": {
    "name": "ipython",
    "version": 3
   },
   "file_extension": ".py",
   "mimetype": "text/x-python",
   "name": "python",
   "nbconvert_exporter": "python",
   "pygments_lexer": "ipython3",
   "version": "3.9.13"
  }
 },
 "nbformat": 4,
 "nbformat_minor": 5
}
