{
 "cells": [
  {
   "cell_type": "markdown",
   "id": "e3cd93c1",
   "metadata": {},
   "source": [
    "## South African Language Identification Hack 2022"
   ]
  },
  {
   "cell_type": "markdown",
   "id": "2d348c99",
   "metadata": {},
   "source": [
    "### Name: Abdulrasheed Musa"
   ]
  },
  {
   "cell_type": "markdown",
   "id": "35fe023f",
   "metadata": {},
   "source": [
    "### Overview"
   ]
  },
  {
   "cell_type": "markdown",
   "id": "1d0ddaa1",
   "metadata": {},
   "source": [
    "South Africa is a multicultural society that is characterised by its rich linguistic diversity. Language is an indispensable tool that can be used to deepen democracy and also contribute to the social, cultural, intellectual, economic and political life of the South African society.\n",
    "\n",
    "The country is multilingual with 11 official languages, each of which is guaranteed equal status. Most South Africans are multilingual and able to speak at least two or more of the official languages.\n",
    "In this challenge, we will take a text which is in any of South Africa's 11 Official languages and identify which language the text is in. This is an example of NLP's Language Identification, the task of determining the natural language that a piece of text is written in."
   ]
  },
  {
   "cell_type": "markdown",
   "id": "f8a943a7",
   "metadata": {},
   "source": [
    "## Table of Contents<a id=\"content\"></a>\n",
    "\n",
    "\n",
    "* [1. Problem Statement](#chapter1)\n",
    "    \n",
    "* [2. Import Relevant packages](#chapter2)\n",
    "\n",
    "* [3. Loading Data](#chapter3)\n",
    "\n",
    "* [4. Exploratory Data Analysis (EDA)](#chapter4)\n",
    "      \n",
    "* [5. Clean the Data](#chapter5)\n",
    "\n",
    "* [6. Modeling and Evaluation](#chapter6)\n",
    "\n",
    "* [7. Conclusion](#chapter7)\n",
    "    \n"
   ]
  },
  {
   "cell_type": "markdown",
   "id": "70fdbdee",
   "metadata": {},
   "source": [
    "## 1.  Problem statement  <a class=\"anchor\" id=\"chapter1\"></a>"
   ]
  },
  {
   "cell_type": "markdown",
   "id": "ebfbe64e",
   "metadata": {},
   "source": [
    "To develop a sophisticated machine learning model which can predict the South African language a text has been written in."
   ]
  },
  {
   "cell_type": "markdown",
   "id": "a45a0fff",
   "metadata": {},
   "source": [
    "## 2. Importing relevant packages  <a class=\"anchor\" id=\"chapter2\"></a>"
   ]
  },
  {
   "cell_type": "code",
   "execution_count": 379,
   "id": "9010939a",
   "metadata": {},
   "outputs": [],
   "source": [
    "# Data loading and Text processing\n",
    "import numpy as np\n",
    "import pandas as pd\n",
    "import string\n",
    "import nltk\n",
    "from sklearn.feature_extraction.text import CountVectorizer\n",
    "from sklearn.feature_extraction.text import TfidfVectorizer\n",
    "\n",
    "\n",
    "# Data Visualisation\n",
    "import matplotlib.pyplot as plt\n",
    "import seaborn as sns\n",
    "\n",
    "\n",
    "# Modeling and Evaluation\n",
    "from sklearn.model_selection import train_test_split\n",
    "from sklearn.metrics import classification_report\n",
    "from sklearn.linear_model import LogisticRegression\n",
    "from sklearn.neighbors import KNeighborsClassifier\n",
    "from sklearn.svm import SVC\n",
    "from sklearn.discriminant_analysis import LinearDiscriminantAnalysis\n",
    "from sklearn.discriminant_analysis import QuadraticDiscriminantAnalysis\n",
    "from sklearn.tree import DecisionTreeClassifier\n",
    "from sklearn.ensemble import RandomForestClassifier, AdaBoostClassifier\n",
    "from sklearn.feature_extraction.text import CountVectorizer\n",
    "from sklearn.pipeline import Pipeline\n",
    "from sklearn.model_selection import cross_val_score\n",
    "from sklearn.model_selection import train_test_split\n",
    "from sklearn import metrics\n",
    "from sklearn.svm import LinearSVC\n",
    "from sklearn.metrics import precision_score, recall_score, f1_score, accuracy_score\n",
    "from sklearn.preprocessing import StandardScaler\n"
   ]
  },
  {
   "cell_type": "markdown",
   "id": "5eb88d23",
   "metadata": {},
   "source": [
    "## 3. Loading Data  <a class=\"anchor\" id=\"chapter3\"></a>"
   ]
  },
  {
   "cell_type": "code",
   "execution_count": 431,
   "id": "2c5a20e0",
   "metadata": {},
   "outputs": [],
   "source": [
    "# read train dataset\n",
    "train_set = pd.read_csv('https://raw.githubusercontent.com/Abdulr3/South-African-Language-Identification-Hack-2022/main/train_set.csv')\n",
    "\n",
    "# read test dataset\n",
    "test_set = pd.read_csv('https://raw.githubusercontent.com/Abdulr3/South-African-Language-Identification-Hack-2022/main/test_set.csv')"
   ]
  },
  {
   "cell_type": "markdown",
   "id": "5e041d7b",
   "metadata": {},
   "source": [
    "## 4.  Exploratory data analysis  <a class=\"anchor\" id=\"chapter4\"></a>"
   ]
  },
  {
   "cell_type": "markdown",
   "id": "39dd26a5",
   "metadata": {},
   "source": [
    "Exploratory data analsysis is the process of deriving insights from our dataset without making any assumptions. Here we will using both graphical and non-graphical exploratory data analysis"
   ]
  },
  {
   "cell_type": "markdown",
   "id": "b78921fe",
   "metadata": {},
   "source": [
    "#### Overview of training set"
   ]
  },
  {
   "cell_type": "code",
   "execution_count": 432,
   "id": "313ce35a",
   "metadata": {},
   "outputs": [
    {
     "data": {
      "text/html": [
       "<div>\n",
       "<style scoped>\n",
       "    .dataframe tbody tr th:only-of-type {\n",
       "        vertical-align: middle;\n",
       "    }\n",
       "\n",
       "    .dataframe tbody tr th {\n",
       "        vertical-align: top;\n",
       "    }\n",
       "\n",
       "    .dataframe thead th {\n",
       "        text-align: right;\n",
       "    }\n",
       "</style>\n",
       "<table border=\"1\" class=\"dataframe\">\n",
       "  <thead>\n",
       "    <tr style=\"text-align: right;\">\n",
       "      <th></th>\n",
       "      <th>lang_id</th>\n",
       "      <th>text</th>\n",
       "    </tr>\n",
       "  </thead>\n",
       "  <tbody>\n",
       "    <tr>\n",
       "      <th>0</th>\n",
       "      <td>xho</td>\n",
       "      <td>umgaqo-siseko wenza amalungiselelo kumaziko ax...</td>\n",
       "    </tr>\n",
       "    <tr>\n",
       "      <th>1</th>\n",
       "      <td>xho</td>\n",
       "      <td>i-dha iya kuba nobulumko bokubeka umsebenzi na...</td>\n",
       "    </tr>\n",
       "    <tr>\n",
       "      <th>2</th>\n",
       "      <td>eng</td>\n",
       "      <td>the province of kwazulu-natal department of tr...</td>\n",
       "    </tr>\n",
       "    <tr>\n",
       "      <th>3</th>\n",
       "      <td>nso</td>\n",
       "      <td>o netefatša gore o ba file dilo ka moka tše le...</td>\n",
       "    </tr>\n",
       "    <tr>\n",
       "      <th>4</th>\n",
       "      <td>ven</td>\n",
       "      <td>khomishini ya ndinganyiso ya mbeu yo ewa maana...</td>\n",
       "    </tr>\n",
       "  </tbody>\n",
       "</table>\n",
       "</div>"
      ],
      "text/plain": [
       "  lang_id                                               text\n",
       "0     xho  umgaqo-siseko wenza amalungiselelo kumaziko ax...\n",
       "1     xho  i-dha iya kuba nobulumko bokubeka umsebenzi na...\n",
       "2     eng  the province of kwazulu-natal department of tr...\n",
       "3     nso  o netefatša gore o ba file dilo ka moka tše le...\n",
       "4     ven  khomishini ya ndinganyiso ya mbeu yo ewa maana..."
      ]
     },
     "execution_count": 432,
     "metadata": {},
     "output_type": "execute_result"
    }
   ],
   "source": [
    "#Training set\n",
    "train_set.head()"
   ]
  },
  {
   "cell_type": "markdown",
   "id": "ab2e8d3f",
   "metadata": {},
   "source": [
    "#### Class distribution"
   ]
  },
  {
   "cell_type": "code",
   "execution_count": 433,
   "id": "9f8cdc62",
   "metadata": {},
   "outputs": [
    {
     "name": "stdout",
     "output_type": "stream",
     "text": [
      "xho    3000\n",
      "eng    3000\n",
      "nso    3000\n",
      "ven    3000\n",
      "tsn    3000\n",
      "nbl    3000\n",
      "zul    3000\n",
      "ssw    3000\n",
      "tso    3000\n",
      "sot    3000\n",
      "afr    3000\n",
      "Name: lang_id, dtype: int64\n"
     ]
    }
   ],
   "source": [
    "#Counting the occurance of each language in the training set\n",
    "Language_counts = train_set['lang_id'].value_counts()\n",
    "print(Language_counts)"
   ]
  },
  {
   "cell_type": "code",
   "execution_count": 434,
   "id": "51e004cf",
   "metadata": {},
   "outputs": [
    {
     "data": {
      "image/png": "[encoded data removed]",
      "text/plain": [
       "<Figure size 800x300 with 1 Axes>"
      ]
     },
     "metadata": {},
     "output_type": "display_data"
    }
   ],
   "source": [
    "'''\n",
    "    Calculating the class distribution for language id\n",
    "'''\n",
    "\n",
    "fig, ax = plt.subplots(figsize = (8,3))\n",
    "target =train_set['lang_id'].value_counts()\n",
    "sns.barplot(x=train_set['lang_id'].unique(), y=target, ax=ax, palette=\"mako\")\n",
    "plt.title('Class Distributions')\n",
    "plt.ylabel(\"Count\")\n",
    "plt.xlabel(\"Languages\")\n",
    "plt.show()"
   ]
  },
  {
   "cell_type": "markdown",
   "id": "560972a2",
   "metadata": {},
   "source": [
    "We can see from the bar chart above, that each  language appears 3000 times. Therefore there is a balance in the class distribution and class inbalance is not a concern"
   ]
  },
  {
   "cell_type": "code",
   "execution_count": 435,
   "id": "001337b8",
   "metadata": {},
   "outputs": [
    {
     "name": "stdout",
     "output_type": "stream",
     "text": [
      "<class 'pandas.core.frame.DataFrame'>\n",
      "RangeIndex: 33000 entries, 0 to 32999\n",
      "Data columns (total 2 columns):\n",
      " #   Column   Non-Null Count  Dtype \n",
      "---  ------   --------------  ----- \n",
      " 0   lang_id  33000 non-null  object\n",
      " 1   text     33000 non-null  object\n",
      "dtypes: object(2)\n",
      "memory usage: 515.8+ KB\n"
     ]
    }
   ],
   "source": [
    "#Viewing data type of each column\n",
    "train_set.info()"
   ]
  },
  {
   "cell_type": "markdown",
   "id": "75342baf",
   "metadata": {},
   "source": [
    "We can see that there are 33000 rows and no null values."
   ]
  },
  {
   "cell_type": "markdown",
   "id": "637b8979",
   "metadata": {},
   "source": [
    "## 5. Cleaning data  <a class=\"anchor\" id=\"chapter5\"></a>"
   ]
  },
  {
   "cell_type": "markdown",
   "id": "baf66661",
   "metadata": {},
   "source": [
    "We will be performing minimal cleaning in our dataset, by converting the text to lower case and removing punctuations."
   ]
  },
  {
   "cell_type": "code",
   "execution_count": 436,
   "id": "bae059b2",
   "metadata": {},
   "outputs": [],
   "source": [
    "def clean_data(text):   \n",
    "    \n",
    "    # change the case of all the words in the text to lowercase \n",
    "    text = text.lower()\n",
    "    \n",
    "    # remove punctuation\n",
    "    text = \"\".join([x for x in text if x not in string.punctuation])\n",
    "    return text"
   ]
  },
  {
   "cell_type": "code",
   "execution_count": 437,
   "id": "9cca7d6d",
   "metadata": {},
   "outputs": [],
   "source": [
    "#cleaning train dataset\n",
    "train_set['text'] = train_set['text'].apply(clean_data)\n",
    "#cleaning test dataset\n",
    "test_set['text'] = test_set['text'].apply(clean_data)"
   ]
  },
  {
   "cell_type": "markdown",
   "id": "7ee216d1",
   "metadata": {},
   "source": [
    "#### Transforming Text into Numbers"
   ]
  },
  {
   "cell_type": "markdown",
   "id": "7ff7eb0c",
   "metadata": {},
   "source": [
    "Here, we will be  convert our unique languages into intergers since our models can only take in numerical data. This will be done  as follows {'xho':1, 'eng':2, 'nso':3, 'ven':4, 'tsn':5, 'nbl':6,'zul':7, 'ssw':8, 'tso':9, 'sot':10, 'afr':11}"
   ]
  },
  {
   "cell_type": "code",
   "execution_count": 438,
   "id": "e8b7d554",
   "metadata": {},
   "outputs": [],
   "source": [
    "lang_dict = {'xho':1, 'eng':2, 'nso':3, 'ven':4, 'tsn':5, 'nbl':6,'zul':7, 'ssw':8, 'tso':9, 'sot':10, 'afr':11}\n",
    "\n",
    "train_set['lang_id'].replace(lang_dict, inplace=True)"
   ]
  },
  {
   "cell_type": "code",
   "execution_count": 439,
   "id": "915f5bf1",
   "metadata": {},
   "outputs": [
    {
     "data": {
      "text/plain": [
       "array([ 1,  2,  3,  4,  5,  6,  7,  8,  9, 10, 11], dtype=int64)"
      ]
     },
     "execution_count": 439,
     "metadata": {},
     "output_type": "execute_result"
    }
   ],
   "source": [
    "train_set['lang_id'].unique()"
   ]
  },
  {
   "cell_type": "markdown",
   "id": "5d5d9ec8",
   "metadata": {},
   "source": [
    "## 6. Modelling and Evaluation  <a class=\"anchor\" id=\"chapter6\"></a>"
   ]
  },
  {
   "cell_type": "markdown",
   "id": "e69c069d",
   "metadata": {},
   "source": [
    "We will be building different types of classification models, and will be comparing their performances"
   ]
  },
  {
   "cell_type": "code",
   "execution_count": 440,
   "id": "dd636382",
   "metadata": {},
   "outputs": [],
   "source": [
    "# Split the dataset into train & validation (15%) for model training\n",
    "\n",
    "# Seperate features and tagret variables\n",
    "X = train_set['text']\n",
    "y = train_set['lang_id']\n",
    "\n",
    "# Split the train data to create validation dataset\n",
    "X_train, X_test, y_train, y_test = train_test_split(X, y, test_size=0.15, random_state=42)"
   ]
  },
  {
   "cell_type": "markdown",
   "id": "bab074e8",
   "metadata": {},
   "source": [
    "### Linear  Support vector model "
   ]
  },
  {
   "cell_type": "markdown",
   "id": "93e861d4",
   "metadata": {},
   "source": [
    "In the SVM algorithm, we plot each data item as a point in n-dimensional space  with the value of each feature being the value of a particular coordinate. The goal of the SVM algorithm is to create the best line or decision boundary that can seperate n-dimensional space into classes so that we can easily put the new data point in the correct category in the future."
   ]
  },
  {
   "cell_type": "code",
   "execution_count": 441,
   "id": "44c5e2f7",
   "metadata": {},
   "outputs": [],
   "source": [
    "# Linear SVC:\n",
    "lsvc = Pipeline([('tfidf', TfidfVectorizer()),\n",
    "                 ('clf', LinearSVC(class_weight='balanced'))])\n"
   ]
  },
  {
   "cell_type": "code",
   "execution_count": 442,
   "id": "126dd5b3",
   "metadata": {},
   "outputs": [],
   "source": [
    "# Linear SVC\n",
    "lsvc.fit(X_train, y_train)\n",
    "y_pred_lsvc = lsvc.predict(X_test)"
   ]
  },
  {
   "cell_type": "code",
   "execution_count": 443,
   "id": "cbf69e93",
   "metadata": {},
   "outputs": [
    {
     "name": "stdout",
     "output_type": "stream",
     "text": [
      "              precision    recall  f1-score   support\n",
      "\n",
      "           1       0.99      1.00      1.00       456\n",
      "           2       1.00      1.00      1.00       457\n",
      "           3       1.00      1.00      1.00       474\n",
      "           4       1.00      1.00      1.00       479\n",
      "           5       1.00      1.00      1.00       443\n",
      "           6       1.00      0.99      0.99       460\n",
      "           7       0.99      0.99      0.99       435\n",
      "           8       1.00      1.00      1.00       456\n",
      "           9       1.00      1.00      1.00       412\n",
      "          10       1.00      1.00      1.00       458\n",
      "          11       1.00      1.00      1.00       420\n",
      "\n",
      "    accuracy                           1.00      4950\n",
      "   macro avg       1.00      1.00      1.00      4950\n",
      "weighted avg       1.00      1.00      1.00      4950\n",
      "\n"
     ]
    }
   ],
   "source": [
    "# Generate a classification Report for the linear SVC model\n",
    "print(metrics.classification_report(y_test, y_pred_lsvc))\n"
   ]
  },
  {
   "cell_type": "code",
   "execution_count": 444,
   "id": "2cd00fb9",
   "metadata": {},
   "outputs": [
    {
     "data": {
      "text/html": [
       "<style>#sk-container-id-15 {color: black;background-color: white;}#sk-container-id-15 pre{padding: 0;}#sk-container-id-15 div.sk-toggleable {background-color: white;}#sk-container-id-15 label.sk-toggleable__label {cursor: pointer;display: block;width: 100%;margin-bottom: 0;padding: 0.3em;box-sizing: border-box;text-align: center;}#sk-container-id-15 label.sk-toggleable__label-arrow:before {content: \"▸\";float: left;margin-right: 0.25em;color: #696969;}#sk-container-id-15 label.sk-toggleable__label-arrow:hover:before {color: black;}#sk-container-id-15 div.sk-estimator:hover label.sk-toggleable__label-arrow:before {color: black;}#sk-container-id-15 div.sk-toggleable__content {max-height: 0;max-width: 0;overflow: hidden;text-align: left;background-color: #f0f8ff;}#sk-container-id-15 div.sk-toggleable__content pre {margin: 0.2em;color: black;border-radius: 0.25em;background-color: #f0f8ff;}#sk-container-id-15 input.sk-toggleable__control:checked~div.sk-toggleable__content {max-height: 200px;max-width: 100%;overflow: auto;}#sk-container-id-15 input.sk-toggleable__control:checked~label.sk-toggleable__label-arrow:before {content: \"▾\";}#sk-container-id-15 div.sk-estimator input.sk-toggleable__control:checked~label.sk-toggleable__label {background-color: #d4ebff;}#sk-container-id-15 div.sk-label input.sk-toggleable__control:checked~label.sk-toggleable__label {background-color: #d4ebff;}#sk-container-id-15 input.sk-hidden--visually {border: 0;clip: rect(1px 1px 1px 1px);clip: rect(1px, 1px, 1px, 1px);height: 1px;margin: -1px;overflow: hidden;padding: 0;position: absolute;width: 1px;}#sk-container-id-15 div.sk-estimator {font-family: monospace;background-color: #f0f8ff;border: 1px dotted black;border-radius: 0.25em;box-sizing: border-box;margin-bottom: 0.5em;}#sk-container-id-15 div.sk-estimator:hover {background-color: #d4ebff;}#sk-container-id-15 div.sk-parallel-item::after {content: \"\";width: 100%;border-bottom: 1px solid gray;flex-grow: 1;}#sk-container-id-15 div.sk-label:hover label.sk-toggleable__label {background-color: #d4ebff;}#sk-container-id-15 div.sk-serial::before {content: \"\";position: absolute;border-left: 1px solid gray;box-sizing: border-box;top: 0;bottom: 0;left: 50%;z-index: 0;}#sk-container-id-15 div.sk-serial {display: flex;flex-direction: column;align-items: center;background-color: white;padding-right: 0.2em;padding-left: 0.2em;position: relative;}#sk-container-id-15 div.sk-item {position: relative;z-index: 1;}#sk-container-id-15 div.sk-parallel {display: flex;align-items: stretch;justify-content: center;background-color: white;position: relative;}#sk-container-id-15 div.sk-item::before, #sk-container-id-15 div.sk-parallel-item::before {content: \"\";position: absolute;border-left: 1px solid gray;box-sizing: border-box;top: 0;bottom: 0;left: 50%;z-index: -1;}#sk-container-id-15 div.sk-parallel-item {display: flex;flex-direction: column;z-index: 1;position: relative;background-color: white;}#sk-container-id-15 div.sk-parallel-item:first-child::after {align-self: flex-end;width: 50%;}#sk-container-id-15 div.sk-parallel-item:last-child::after {align-self: flex-start;width: 50%;}#sk-container-id-15 div.sk-parallel-item:only-child::after {width: 0;}#sk-container-id-15 div.sk-dashed-wrapped {border: 1px dashed gray;margin: 0 0.4em 0.5em 0.4em;box-sizing: border-box;padding-bottom: 0.4em;background-color: white;}#sk-container-id-15 div.sk-label label {font-family: monospace;font-weight: bold;display: inline-block;line-height: 1.2em;}#sk-container-id-15 div.sk-label-container {text-align: center;}#sk-container-id-15 div.sk-container {/* jupyter's `normalize.less` sets `[hidden] { display: none; }` but bootstrap.min.css set `[hidden] { display: none !important; }` so we also need the `!important` here to be able to override the default hidden behavior on the sphinx rendered scikit-learn.org. See: https://github.com/scikit-learn/scikit-learn/issues/21755 */display: inline-block !important;position: relative;}#sk-container-id-15 div.sk-text-repr-fallback {display: none;}</style><div id=\"sk-container-id-15\" class=\"sk-top-container\"><div class=\"sk-text-repr-fallback\"><pre>Pipeline(steps=[(&#x27;tfidf&#x27;, TfidfVectorizer()),\n",
       "                (&#x27;clf&#x27;, LinearSVC(class_weight=&#x27;balanced&#x27;))])</pre><b>In a Jupyter environment, please rerun this cell to show the HTML representation or trust the notebook. <br />On GitHub, the HTML representation is unable to render, please try loading this page with nbviewer.org.</b></div><div class=\"sk-container\" hidden><div class=\"sk-item sk-dashed-wrapped\"><div class=\"sk-label-container\"><div class=\"sk-label sk-toggleable\"><input class=\"sk-toggleable__control sk-hidden--visually\" id=\"sk-estimator-id-31\" type=\"checkbox\" ><label for=\"sk-estimator-id-31\" class=\"sk-toggleable__label sk-toggleable__label-arrow\">Pipeline</label><div class=\"sk-toggleable__content\"><pre>Pipeline(steps=[(&#x27;tfidf&#x27;, TfidfVectorizer()),\n",
       "                (&#x27;clf&#x27;, LinearSVC(class_weight=&#x27;balanced&#x27;))])</pre></div></div></div><div class=\"sk-serial\"><div class=\"sk-item\"><div class=\"sk-estimator sk-toggleable\"><input class=\"sk-toggleable__control sk-hidden--visually\" id=\"sk-estimator-id-32\" type=\"checkbox\" ><label for=\"sk-estimator-id-32\" class=\"sk-toggleable__label sk-toggleable__label-arrow\">TfidfVectorizer</label><div class=\"sk-toggleable__content\"><pre>TfidfVectorizer()</pre></div></div></div><div class=\"sk-item\"><div class=\"sk-estimator sk-toggleable\"><input class=\"sk-toggleable__control sk-hidden--visually\" id=\"sk-estimator-id-33\" type=\"checkbox\" ><label for=\"sk-estimator-id-33\" class=\"sk-toggleable__label sk-toggleable__label-arrow\">LinearSVC</label><div class=\"sk-toggleable__content\"><pre>LinearSVC(class_weight=&#x27;balanced&#x27;)</pre></div></div></div></div></div></div></div>"
      ],
      "text/plain": [
       "Pipeline(steps=[('tfidf', TfidfVectorizer()),\n",
       "                ('clf', LinearSVC(class_weight='balanced'))])"
      ]
     },
     "execution_count": 444,
     "metadata": {},
     "output_type": "execute_result"
    }
   ],
   "source": [
    "lsvc.fit(X, y)"
   ]
  },
  {
   "cell_type": "markdown",
   "id": "742723a2",
   "metadata": {},
   "source": [
    "### Random Forest Classification"
   ]
  },
  {
   "cell_type": "markdown",
   "id": "72306e3a",
   "metadata": {},
   "source": [
    "\n",
    "Random Forest is a tree-based machine learning algorithm that leverages the power of multiple decision trees for making decisions. "
   ]
  },
  {
   "cell_type": "code",
   "execution_count": 445,
   "id": "8da1a317",
   "metadata": {},
   "outputs": [],
   "source": [
    "# Define  Random Forest Classifier\n",
    "rf = Pipeline([('tfidf', TfidfVectorizer()),\n",
    "               ('clf', RandomForestClassifier(max_depth=5, \n",
    "                                              n_estimators=100))])"
   ]
  },
  {
   "cell_type": "code",
   "execution_count": 446,
   "id": "bfe0b939",
   "metadata": {},
   "outputs": [],
   "source": [
    "# Model Training and validation \n",
    "\n",
    "rf.fit(X_train, y_train)\n",
    "y_pred_rf = rf.predict(X_test)"
   ]
  },
  {
   "cell_type": "code",
   "execution_count": 447,
   "id": "7e3f7c21",
   "metadata": {},
   "outputs": [
    {
     "name": "stdout",
     "output_type": "stream",
     "text": [
      "              precision    recall  f1-score   support\n",
      "\n",
      "           1       0.91      0.82      0.86       456\n",
      "           2       0.98      1.00      0.99       457\n",
      "           3       0.99      0.98      0.99       474\n",
      "           4       1.00      1.00      1.00       479\n",
      "           5       0.95      0.97      0.96       443\n",
      "           6       0.63      0.85      0.72       460\n",
      "           7       0.75      0.75      0.75       435\n",
      "           8       0.97      0.70      0.81       456\n",
      "           9       0.98      1.00      0.99       412\n",
      "          10       0.98      0.96      0.97       458\n",
      "          11       1.00      1.00      1.00       420\n",
      "\n",
      "    accuracy                           0.91      4950\n",
      "   macro avg       0.92      0.91      0.91      4950\n",
      "weighted avg       0.92      0.91      0.91      4950\n",
      "\n"
     ]
    }
   ],
   "source": [
    "# Generate a classification Report for the random forest model\n",
    "print(metrics.classification_report(y_test, y_pred_rf))"
   ]
  },
  {
   "cell_type": "markdown",
   "id": "bdfd69b6",
   "metadata": {},
   "source": [
    "### K Nearest Neighbors classification"
   ]
  },
  {
   "cell_type": "markdown",
   "id": "6b00e2a5",
   "metadata": {},
   "source": [
    "The KNN algorithm uses ‘feature similarity’ to predict the values of any new data points. This means that the new point is assigned a value based on how closely it resembles the points in the training set."
   ]
  },
  {
   "cell_type": "code",
   "execution_count": 448,
   "id": "12cad17a",
   "metadata": {},
   "outputs": [],
   "source": [
    "# Define model\n",
    "knn = Pipeline([('tfidf', TfidfVectorizer()),\n",
    "                ('clf', KNeighborsClassifier(n_neighbors=5, \n",
    "                                             metric='minkowski', \n",
    "                                             p=2))])"
   ]
  },
  {
   "cell_type": "code",
   "execution_count": 449,
   "id": "10dea56a",
   "metadata": {},
   "outputs": [],
   "source": [
    "#Model training and validation\n",
    "knn.fit(X_train, y_train)\n",
    "y_pred_knn = knn.predict(X_test)"
   ]
  },
  {
   "cell_type": "code",
   "execution_count": 450,
   "id": "d76a4c86",
   "metadata": {},
   "outputs": [
    {
     "name": "stdout",
     "output_type": "stream",
     "text": [
      "              precision    recall  f1-score   support\n",
      "\n",
      "           1       0.94      0.93      0.94       456\n",
      "           2       0.98      1.00      0.99       457\n",
      "           3       0.94      0.98      0.96       474\n",
      "           4       1.00      1.00      1.00       479\n",
      "           5       0.95      0.95      0.95       443\n",
      "           6       0.90      0.96      0.93       460\n",
      "           7       0.95      0.87      0.91       435\n",
      "           8       0.98      0.96      0.97       456\n",
      "           9       0.98      1.00      0.99       412\n",
      "          10       0.99      0.96      0.97       458\n",
      "          11       1.00      0.99      0.99       420\n",
      "\n",
      "    accuracy                           0.96      4950\n",
      "   macro avg       0.96      0.96      0.96      4950\n",
      "weighted avg       0.96      0.96      0.96      4950\n",
      "\n"
     ]
    }
   ],
   "source": [
    "# Generate a classification Report for the K-nearest neighbors model\n",
    "print(metrics.classification_report(y_test, y_pred_knn))"
   ]
  },
  {
   "cell_type": "markdown",
   "id": "1d67cd4b",
   "metadata": {},
   "source": [
    "### Model Comparison"
   ]
  },
  {
   "cell_type": "code",
   "execution_count": 451,
   "id": "c03780f4",
   "metadata": {},
   "outputs": [],
   "source": [
    "#Calculating f1 score for each model\n",
    "f1_lsvc = f1_score(y_test, y_pred_lsvc, average='weighted')\n",
    "f1_rf = f1_score(y_test, y_pred_rf,average='weighted')\n",
    "f1_knn = f1_score(y_test, y_pred_knn, average='weighted')"
   ]
  },
  {
   "cell_type": "code",
   "execution_count": 452,
   "id": "d8cc3123",
   "metadata": {},
   "outputs": [
    {
     "name": "stdout",
     "output_type": "stream",
     "text": [
      "0.9975755936666235\n",
      "0.9133177299902903\n",
      "0.9635248763539824\n"
     ]
    }
   ],
   "source": [
    "print(f1_lsvc)\n",
    "print(f1_rf)\n",
    "print(f1_knn)"
   ]
  },
  {
   "cell_type": "code",
   "execution_count": 453,
   "id": "6251e8b3",
   "metadata": {},
   "outputs": [
    {
     "data": {
      "image/png": "[encoded data removed]",
      "text/plain": [
       "<Figure size 800x300 with 1 Axes>"
      ]
     },
     "metadata": {},
     "output_type": "display_data"
    }
   ],
   "source": [
    "F1_scores={'Model':['Linear SVM','Random Forest','K-Nearest'],'F1_score':[f1_lsvc,f1_rf,f1_knn]}\n",
    "F1= pd.DataFrame(F1_scores)\n",
    "fig, ax = plt.subplots(figsize = (8,3))\n",
    "target =F1['F1_score']\n",
    "sns.barplot(x=F1['Model'].unique(), y=target, ax=ax, palette=\"mako\")\n",
    "plt.title('Model comparison')\n",
    "plt.ylabel(\"F1 score\")\n",
    "plt.show()"
   ]
  },
  {
   "cell_type": "markdown",
   "id": "cd4318f8",
   "metadata": {},
   "source": [
    "We can see from the above plot, that the linear support vector machine model has the highest F1-score of 0.998. The F1-score is an error metric which measures model performance by calculating the harmonic mean of precision and recall for the minority positive class. It is a popular metric to use for classification models as it provides accurate results for both balanced and imbalanced datasets , and takes into account both the precision and recall ability of the model. Therefore our best model is the one trained using Linear support vector."
   ]
  },
  {
   "cell_type": "markdown",
   "id": "a8c9550d",
   "metadata": {},
   "source": [
    "## 7. Conclusion  <a class=\"anchor\" id=\"chapter7\"></a>"
   ]
  },
  {
   "cell_type": "markdown",
   "id": "0bf87729",
   "metadata": {},
   "source": [
    "We able to train and produce a powerful model, which would, with a high level of accuracy, determine in which language a text has been written. This was achieved by using best practices to prepare datasets, using a number of modelling techniques to train and finally select the best model based on performance."
   ]
  },
  {
   "cell_type": "markdown",
   "id": "35927967",
   "metadata": {},
   "source": [
    "### Submitting  to kaggle"
   ]
  },
  {
   "cell_type": "code",
   "execution_count": 454,
   "id": "7291b807",
   "metadata": {},
   "outputs": [
    {
     "data": {
      "text/html": [
       "<style>#sk-container-id-16 {color: black;background-color: white;}#sk-container-id-16 pre{padding: 0;}#sk-container-id-16 div.sk-toggleable {background-color: white;}#sk-container-id-16 label.sk-toggleable__label {cursor: pointer;display: block;width: 100%;margin-bottom: 0;padding: 0.3em;box-sizing: border-box;text-align: center;}#sk-container-id-16 label.sk-toggleable__label-arrow:before {content: \"▸\";float: left;margin-right: 0.25em;color: #696969;}#sk-container-id-16 label.sk-toggleable__label-arrow:hover:before {color: black;}#sk-container-id-16 div.sk-estimator:hover label.sk-toggleable__label-arrow:before {color: black;}#sk-container-id-16 div.sk-toggleable__content {max-height: 0;max-width: 0;overflow: hidden;text-align: left;background-color: #f0f8ff;}#sk-container-id-16 div.sk-toggleable__content pre {margin: 0.2em;color: black;border-radius: 0.25em;background-color: #f0f8ff;}#sk-container-id-16 input.sk-toggleable__control:checked~div.sk-toggleable__content {max-height: 200px;max-width: 100%;overflow: auto;}#sk-container-id-16 input.sk-toggleable__control:checked~label.sk-toggleable__label-arrow:before {content: \"▾\";}#sk-container-id-16 div.sk-estimator input.sk-toggleable__control:checked~label.sk-toggleable__label {background-color: #d4ebff;}#sk-container-id-16 div.sk-label input.sk-toggleable__control:checked~label.sk-toggleable__label {background-color: #d4ebff;}#sk-container-id-16 input.sk-hidden--visually {border: 0;clip: rect(1px 1px 1px 1px);clip: rect(1px, 1px, 1px, 1px);height: 1px;margin: -1px;overflow: hidden;padding: 0;position: absolute;width: 1px;}#sk-container-id-16 div.sk-estimator {font-family: monospace;background-color: #f0f8ff;border: 1px dotted black;border-radius: 0.25em;box-sizing: border-box;margin-bottom: 0.5em;}#sk-container-id-16 div.sk-estimator:hover {background-color: #d4ebff;}#sk-container-id-16 div.sk-parallel-item::after {content: \"\";width: 100%;border-bottom: 1px solid gray;flex-grow: 1;}#sk-container-id-16 div.sk-label:hover label.sk-toggleable__label {background-color: #d4ebff;}#sk-container-id-16 div.sk-serial::before {content: \"\";position: absolute;border-left: 1px solid gray;box-sizing: border-box;top: 0;bottom: 0;left: 50%;z-index: 0;}#sk-container-id-16 div.sk-serial {display: flex;flex-direction: column;align-items: center;background-color: white;padding-right: 0.2em;padding-left: 0.2em;position: relative;}#sk-container-id-16 div.sk-item {position: relative;z-index: 1;}#sk-container-id-16 div.sk-parallel {display: flex;align-items: stretch;justify-content: center;background-color: white;position: relative;}#sk-container-id-16 div.sk-item::before, #sk-container-id-16 div.sk-parallel-item::before {content: \"\";position: absolute;border-left: 1px solid gray;box-sizing: border-box;top: 0;bottom: 0;left: 50%;z-index: -1;}#sk-container-id-16 div.sk-parallel-item {display: flex;flex-direction: column;z-index: 1;position: relative;background-color: white;}#sk-container-id-16 div.sk-parallel-item:first-child::after {align-self: flex-end;width: 50%;}#sk-container-id-16 div.sk-parallel-item:last-child::after {align-self: flex-start;width: 50%;}#sk-container-id-16 div.sk-parallel-item:only-child::after {width: 0;}#sk-container-id-16 div.sk-dashed-wrapped {border: 1px dashed gray;margin: 0 0.4em 0.5em 0.4em;box-sizing: border-box;padding-bottom: 0.4em;background-color: white;}#sk-container-id-16 div.sk-label label {font-family: monospace;font-weight: bold;display: inline-block;line-height: 1.2em;}#sk-container-id-16 div.sk-label-container {text-align: center;}#sk-container-id-16 div.sk-container {/* jupyter's `normalize.less` sets `[hidden] { display: none; }` but bootstrap.min.css set `[hidden] { display: none !important; }` so we also need the `!important` here to be able to override the default hidden behavior on the sphinx rendered scikit-learn.org. See: https://github.com/scikit-learn/scikit-learn/issues/21755 */display: inline-block !important;position: relative;}#sk-container-id-16 div.sk-text-repr-fallback {display: none;}</style><div id=\"sk-container-id-16\" class=\"sk-top-container\"><div class=\"sk-text-repr-fallback\"><pre>Pipeline(steps=[(&#x27;tfidf&#x27;, TfidfVectorizer()), (&#x27;clf&#x27;, KNeighborsClassifier())])</pre><b>In a Jupyter environment, please rerun this cell to show the HTML representation or trust the notebook. <br />On GitHub, the HTML representation is unable to render, please try loading this page with nbviewer.org.</b></div><div class=\"sk-container\" hidden><div class=\"sk-item sk-dashed-wrapped\"><div class=\"sk-label-container\"><div class=\"sk-label sk-toggleable\"><input class=\"sk-toggleable__control sk-hidden--visually\" id=\"sk-estimator-id-34\" type=\"checkbox\" ><label for=\"sk-estimator-id-34\" class=\"sk-toggleable__label sk-toggleable__label-arrow\">Pipeline</label><div class=\"sk-toggleable__content\"><pre>Pipeline(steps=[(&#x27;tfidf&#x27;, TfidfVectorizer()), (&#x27;clf&#x27;, KNeighborsClassifier())])</pre></div></div></div><div class=\"sk-serial\"><div class=\"sk-item\"><div class=\"sk-estimator sk-toggleable\"><input class=\"sk-toggleable__control sk-hidden--visually\" id=\"sk-estimator-id-35\" type=\"checkbox\" ><label for=\"sk-estimator-id-35\" class=\"sk-toggleable__label sk-toggleable__label-arrow\">TfidfVectorizer</label><div class=\"sk-toggleable__content\"><pre>TfidfVectorizer()</pre></div></div></div><div class=\"sk-item\"><div class=\"sk-estimator sk-toggleable\"><input class=\"sk-toggleable__control sk-hidden--visually\" id=\"sk-estimator-id-36\" type=\"checkbox\" ><label for=\"sk-estimator-id-36\" class=\"sk-toggleable__label sk-toggleable__label-arrow\">KNeighborsClassifier</label><div class=\"sk-toggleable__content\"><pre>KNeighborsClassifier()</pre></div></div></div></div></div></div></div>"
      ],
      "text/plain": [
       "Pipeline(steps=[('tfidf', TfidfVectorizer()), ('clf', KNeighborsClassifier())])"
      ]
     },
     "execution_count": 454,
     "metadata": {},
     "output_type": "execute_result"
    }
   ],
   "source": [
    "knn.fit(X,y)"
   ]
  },
  {
   "cell_type": "code",
   "execution_count": null,
   "id": "a1228a3b",
   "metadata": {},
   "outputs": [],
   "source": [
    "Prediction_lsvc =lsvc.predict(test_set['text'])\n",
    "Prediction_rf = rf.predict(test_set['text'])\n",
    "Prediction_knn = knn.predict(test_set['text'])\n",
    "A = Prediction_knn"
   ]
  },
  {
   "cell_type": "code",
   "execution_count": null,
   "id": "dd34fe0f",
   "metadata": {},
   "outputs": [],
   "source": [
    "lang_dict = {'xho':1, 'eng':2, 'nso':3, 'ven':4, 'tsn':5, 'nbl':6,'zul':7, 'ssw':8, 'tso':9, 'sot':10, 'afr':11}"
   ]
  },
  {
   "cell_type": "code",
   "execution_count": null,
   "id": "d0eb6f72",
   "metadata": {},
   "outputs": [],
   "source": [
    "A=np.array(A,dtype='object')"
   ]
  },
  {
   "cell_type": "code",
   "execution_count": null,
   "id": "7cb58e9a",
   "metadata": {},
   "outputs": [],
   "source": [
    "A[A == 1] = 'xho'\n",
    "A[A == 2] = 'eng'\n",
    "A[A == 3] = 'nso'\n",
    "A[A == 4] = 'ven'\n",
    "A[A == 5] = 'tsn'\n",
    "A[A == 6] = 'nbl'\n",
    "A[A == 7] = 'zul'\n",
    "A[A == 8] = 'ssw'\n",
    "A[A == 9] = 'tso'\n",
    "A[A == 10] = 'sot'\n",
    "A[A == 11] = 'afr'"
   ]
  },
  {
   "cell_type": "code",
   "execution_count": null,
   "id": "fbdf1055",
   "metadata": {},
   "outputs": [],
   "source": [
    "output = pd.DataFrame({'index':test_set['index'], 'lang_id':A})\n",
    "output.to_csv('submission_knn.csv', index=False)"
   ]
  },
  {
   "cell_type": "code",
   "execution_count": null,
   "id": "24c03722",
   "metadata": {},
   "outputs": [],
   "source": []
  }
 ],
 "metadata": {
  "kernelspec": {
   "display_name": "Python 3 (ipykernel)",
   "language": "python",
   "name": "python3"
  },
  "language_info": {
   "codemirror_mode": {
    "name": "ipython",
    "version": 3
   },
   "file_extension": ".py",
   "mimetype": "text/x-python",
   "name": "python",
   "nbconvert_exporter": "python",
   "pygments_lexer": "ipython3",
   "version": "3.9.13"
  }
 },
 "nbformat": 4,
 "nbformat_minor": 5
}
